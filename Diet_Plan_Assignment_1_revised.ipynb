{
 "cells": [
  {
   "cell_type": "markdown",
   "id": "15e27992-204d-4a83-bfef-245786f1d142",
   "metadata": {},
   "source": [
    "## DIET Linear Programming Assignment 1"
   ]
  },
  {
   "cell_type": "code",
   "execution_count": 4,
   "id": "fa86ec0b-3046-40cb-99db-a5819ee0afeb",
   "metadata": {},
   "outputs": [],
   "source": [
    "import pulp\n",
    "\n",
    "problem = pulp.LpProblem(\"Nutritional_Optimization\", pulp.LpMinimize)"
   ]
  },
  {
   "cell_type": "markdown",
   "id": "65d626d9-3c2c-45de-9a49-73ca30bd4f4f",
   "metadata": {},
   "source": [
    "## Decision Variables"
   ]
  },
  {
   "cell_type": "code",
   "execution_count": 5,
   "id": "0a0f967f-2a79-4902-bdf6-94a64856254b",
   "metadata": {},
   "outputs": [],
   "source": [
    "\n",
    "okios_yogurt = pulp.LpVariable('Okios_Yogurt', lowBound=0, cat='Continuous')\n",
    "a_toast = pulp.LpVariable('Avocado_Toast', lowBound=0, cat='Continuous')\n",
    "CFR = pulp.LpVariable('Chicken_Fried_Rice', lowBound=0, cat='Continuous')\n",
    "OC = pulp.LpVariable('Orange_Chicken', lowBound=0, cat='Continuous')\n",
    "mrooms = pulp.LpVariable('Mushrooms', lowBound=0, cat='Continuous')"
   ]
  },
  {
   "cell_type": "markdown",
   "id": "6573b055-2e2d-47a5-9405-644f6383201c",
   "metadata": {},
   "source": [
    "## Cost Equation"
   ]
  },
  {
   "cell_type": "code",
   "execution_count": 6,
   "id": "e8110f24-1464-4ace-b819-f18c6a39a220",
   "metadata": {},
   "outputs": [],
   "source": [
    "problem += 1.2475*okios_yogurt + 3.59*a_toast + 2.66*CFR + 2.66*OC + 1.2475*mrooms, \"Total_Cost\""
   ]
  },
  {
   "cell_type": "markdown",
   "id": "42470ddb-8c4c-45f7-ae65-13d785ad4b73",
   "metadata": {},
   "source": [
    "## Constraints "
   ]
  },
  {
   "cell_type": "code",
   "execution_count": 7,
   "id": "dbe616bc-865e-4b49-acdb-37dc2f16dce1",
   "metadata": {},
   "outputs": [],
   "source": [
    "\n",
    "problem += (60 * okios_yogurt + 350 * a_toast + 390 * CFR + 760 * OC + 15 * mrooms) <= 35000, \"Sodium_Constraint\"\n",
    "problem += (90 * okios_yogurt + 190 * a_toast + 250 * CFR + 310 * OC + 20 * mrooms) >= 14000, \"Energy_Constraint\"\n",
    "problem += (15 * okios_yogurt + 4 * a_toast + 9 * CFR + 13 * OC + 8 * mrooms) >= 350, \"Protein_Constraint\"\n",
    "problem += (2 * okios_yogurt) >= 140, \"VitaminD_Constraint\"  # Adjusted for weekly\n",
    "problem += (150 * okios_yogurt + 10 * a_toast + 21 * CFR + 31 * OC) >= 9100, \"Calcium_Constraint\"\n",
    "problem += (1 * a_toast + 46.5 * OC) >= 126, \"Iron_Constraint\"\n",
    "problem += (150 * okios_yogurt + 350 * a_toast + 181 * CFR + 181 * OC) >= 32900, \"Potassium_Constraint\"\n",
    "\n",
    "problem += okios_yogurt <= 70, \"Min_Okios_Yogurt\"\n",
    "problem += a_toast <= 15, \"Min_Avocado_Toast\""
   ]
  },
  {
   "cell_type": "code",
   "execution_count": 8,
   "id": "891cd144-449e-4522-b021-ca6c8797eaf0",
   "metadata": {},
   "outputs": [
    {
     "name": "stdout",
     "output_type": "stream",
     "text": [
      "Welcome to the CBC MILP Solver \n",
      "Version: 2.10.3 \n",
      "Build Date: Dec 15 2019 \n",
      "\n",
      "command line - /Library/anaconda3/envs/Anaconda4/lib/python3.12/site-packages/pulp/solverdir/cbc/osx/64/cbc /var/folders/hg/4jl5skts65gbn9_c3mp4y8c80000gn/T/a837a2768c92488f92b74e7e96cf273e-pulp.mps -timeMode elapsed -branch -printingOptions all -solution /var/folders/hg/4jl5skts65gbn9_c3mp4y8c80000gn/T/a837a2768c92488f92b74e7e96cf273e-pulp.sol (default strategy 1)\n",
      "At line 2 NAME          MODEL\n",
      "At line 3 ROWS\n",
      "At line 14 COLUMNS\n",
      "At line 48 RHS\n",
      "At line 58 BOUNDS\n",
      "At line 59 ENDATA\n",
      "Problem MODEL has 9 rows, 5 columns and 28 elements\n",
      "Coin0008I MODEL read with 0 errors\n",
      "Option for timeMode changed from cpu to elapsed\n",
      "Presolve 3 (-6) rows, 3 (-2) columns and 8 (-20) elements\n",
      "1 infeasibilities\n",
      "Analysis indicates model infeasible or unbounded\n",
      "0  Obj 0 Primal inf 693.49499 (6)\n",
      "5  Obj 393.21367 Primal inf 87.141653 (1)\n",
      "Primal infeasible - objective value 393.21367\n",
      "PrimalInfeasible objective 393.213674 - 5 iterations time 0.002\n",
      "\n",
      "Result - Linear relaxation infeasible\n",
      "\n",
      "Enumerated nodes:           0\n",
      "Total iterations:           0\n",
      "Time (CPU seconds):         0.00\n",
      "Time (Wallclock Seconds):   0.00\n",
      "\n",
      "Option for printingOptions changed from normal to all\n",
      "Total time (CPU seconds):       0.00   (Wallclock seconds):       0.00\n",
      "\n"
     ]
    }
   ],
   "source": [
    "problem.solve()\n",
    "output = {}\n",
    "for v in problem.variables():\n",
    "    output[v.name] = v.varValue"
   ]
  },
  {
   "cell_type": "markdown",
   "id": "0bad97c8-b43e-41bb-8b68-a5831ab6d55c",
   "metadata": {},
   "source": [
    "## Final Output"
   ]
  },
  {
   "cell_type": "code",
   "execution_count": 9,
   "id": "229e7470-cd8d-417a-a93c-def2f301b47e",
   "metadata": {},
   "outputs": [
    {
     "name": "stdout",
     "output_type": "stream",
     "text": [
      "Optimal Servings:\n",
      "Avocado_Toast: 15.00 servings\n",
      "Chicken_Fried_Rice: 92.36 servings\n",
      "Mushrooms: 0.00 servings\n",
      "Okios_Yogurt: 70.00 servings\n",
      "Orange_Chicken: 2.39 servings\n",
      "Total Cost: $393.21\n"
     ]
    }
   ],
   "source": [
    "print(\"Optimal Servings:\")\n",
    "for item, servings in output.items():\n",
    "    print(f\"{item}: {servings:.2f} servings\")\n",
    "total_cost = pulp.value(problem.objective)\n",
    "print(f\"Total Cost: ${total_cost:.2f}\")"
   ]
  },
  {
   "cell_type": "code",
   "execution_count": null,
   "id": "b123babe-7286-45b7-9691-e01511368b6a",
   "metadata": {},
   "outputs": [],
   "source": []
  }
 ],
 "metadata": {
  "kernelspec": {
   "display_name": "Python 3 (ipykernel)",
   "language": "python",
   "name": "python3"
  },
  "language_info": {
   "codemirror_mode": {
    "name": "ipython",
    "version": 3
   },
   "file_extension": ".py",
   "mimetype": "text/x-python",
   "name": "python",
   "nbconvert_exporter": "python",
   "pygments_lexer": "ipython3",
   "version": "3.12.3"
  }
 },
 "nbformat": 4,
 "nbformat_minor": 5
}
