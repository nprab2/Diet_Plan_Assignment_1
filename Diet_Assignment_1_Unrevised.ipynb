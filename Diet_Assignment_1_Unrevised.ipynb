{
 "cells": [
  {
   "cell_type": "code",
   "execution_count": 7,
   "id": "3ce807e4-15ca-4767-9f7e-57530e9f6838",
   "metadata": {},
   "outputs": [],
   "source": [
    "import pulp\n",
    "\n",
    "problem = pulp.LpProblem(\"Nutritional_Optimization\", pulp.LpMinimize)"
   ]
  },
  {
   "cell_type": "code",
   "execution_count": 8,
   "id": "224c670e-3b08-42ff-b9ea-bd1826fcdb02",
   "metadata": {},
   "outputs": [],
   "source": [
    "\n",
    "okios_yogurt = pulp.LpVariable('Okios_Yogurt', lowBound=0, cat='Continuous')\n",
    "a_toast = pulp.LpVariable('Avocado_Toast', lowBound=0, cat='Continuous')\n",
    "CFR = pulp.LpVariable('Chicken_Fried_Rice', lowBound=0, cat='Continuous')\n",
    "OC = pulp.LpVariable('Orange_Chicken', lowBound=0, cat='Continuous')\n",
    "mrooms = pulp.LpVariable('Mushrooms', lowBound=0, cat='Continuous')"
   ]
  },
  {
   "cell_type": "code",
   "execution_count": 9,
   "id": "29aeac85-9d64-4a29-b405-337393f8a60b",
   "metadata": {},
   "outputs": [],
   "source": [
    "problem += 1.2475*okios_yogurt + 3.59*a_toast + 2.66*CFR + 2.66*OC + 1.2475*mrooms, \"Total_Cost\""
   ]
  },
  {
   "cell_type": "code",
   "execution_count": 10,
   "id": "ce6f559e-02df-4498-bd4e-76f4452e4fb2",
   "metadata": {},
   "outputs": [],
   "source": [
    "\n",
    "problem += (60 * okios_yogurt + 350 * a_toast + 390 * CFR + 760 * OC + 15 * mrooms) <= 35000, \"Sodium_Constraint\"\n",
    "problem += (90 * okios_yogurt + 190 * a_toast + 250 * CFR + 310 * OC + 20 * mrooms) >= 14000, \"Energy_Constraint\"\n",
    "problem += (15 * okios_yogurt + 4 * a_toast + 9 * CFR + 13 * OC + 8 * mrooms) >= 350, \"Protein_Constraint\"\n",
    "problem += (2 * okios_yogurt) >= 140, \"VitaminD_Constraint\"  # Adjusted for weekly\n",
    "problem += (150 * okios_yogurt + 10 * a_toast + 21 * CFR + 31 * OC) >= 9100, \"Calcium_Constraint\"\n",
    "problem += (1 * a_toast + 46.5 * OC) >= 126, \"Iron_Constraint\"\n",
    "problem += (150 * okios_yogurt + 350 * a_toast + 181 * CFR + 181 * OC) >= 32900, \"Potassium_Constraint\"\n"
   ]
  },
  {
   "cell_type": "code",
   "execution_count": 12,
   "id": "5a2a5a68-0f9a-43cb-8654-c7b1a2da6586",
   "metadata": {},
   "outputs": [
    {
     "name": "stdout",
     "output_type": "stream",
     "text": [
      "Welcome to the CBC MILP Solver \n",
      "Version: 2.10.3 \n",
      "Build Date: Dec 15 2019 \n",
      "\n",
      "command line - /Library/anaconda3/lib/python3.11/site-packages/pulp/solverdir/cbc/osx/64/cbc /var/folders/hg/4jl5skts65gbn9_c3mp4y8c80000gn/T/325403cbe9d141809bf18d8263bff5e5-pulp.mps -timeMode elapsed -branch -printingOptions all -solution /var/folders/hg/4jl5skts65gbn9_c3mp4y8c80000gn/T/325403cbe9d141809bf18d8263bff5e5-pulp.sol (default strategy 1)\n",
      "At line 2 NAME          MODEL\n",
      "At line 3 ROWS\n",
      "At line 12 COLUMNS\n",
      "At line 44 RHS\n",
      "At line 52 BOUNDS\n",
      "At line 53 ENDATA\n",
      "Problem MODEL has 7 rows, 5 columns and 26 elements\n",
      "Coin0008I MODEL read with 0 errors\n",
      "Option for timeMode changed from cpu to elapsed\n",
      "Presolve 4 (-3) rows, 5 (0) columns and 16 (-10) elements\n",
      "0  Obj 89.339244 Primal inf 174.31377 (3)\n",
      "2  Obj 276.74715\n",
      "Optimal - objective value 276.74715\n",
      "After Postsolve, objective 276.74715, infeasibilities - dual 0 (0), primal 0 (0)\n",
      "Optimal objective 276.7471527 - 2 iterations time 0.002, Presolve 0.00\n",
      "Option for printingOptions changed from normal to all\n",
      "Total time (CPU seconds):       0.00   (Wallclock seconds):       0.01\n",
      "\n",
      "Optimal Servings:\n",
      "Avocado_Toast: 0.00 servings\n",
      "Chicken_Fried_Rice: 0.00 servings\n",
      "Mushrooms: 0.00 servings\n",
      "Okios_Yogurt: 216.06 servings\n",
      "Orange_Chicken: 2.71 servings\n",
      "Total Cost: $276.75\n"
     ]
    }
   ],
   "source": [
    "problem.solve()\n",
    "output = {}\n",
    "for v in problem.variables():\n",
    "    output[v.name] = v.varValue\n",
    "print(\"Optimal Servings:\")\n",
    "for item, servings in output.items():\n",
    "    print(f\"{item}: {servings:.2f} servings\")\n",
    "total_cost = pulp.value(problem.objective)\n",
    "print(f\"Total Cost: ${total_cost:.2f}\")"
   ]
  },
  {
   "cell_type": "code",
   "execution_count": null,
   "id": "1d6119b4-3926-4e54-8282-2ca3383e0ee3",
   "metadata": {},
   "outputs": [],
   "source": []
  }
 ],
 "metadata": {
  "kernelspec": {
   "display_name": "Python 3 (ipykernel)",
   "language": "python",
   "name": "python3"
  },
  "language_info": {
   "codemirror_mode": {
    "name": "ipython",
    "version": 3
   },
   "file_extension": ".py",
   "mimetype": "text/x-python",
   "name": "python",
   "nbconvert_exporter": "python",
   "pygments_lexer": "ipython3",
   "version": "3.11.7"
  }
 },
 "nbformat": 4,
 "nbformat_minor": 5
}
